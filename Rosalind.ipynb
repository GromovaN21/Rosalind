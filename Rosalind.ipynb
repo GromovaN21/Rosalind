{
  "nbformat": 4,
  "nbformat_minor": 0,
  "metadata": {
    "colab": {
      "provenance": [],
      "authorship_tag": "ABX9TyM2mG8oNZk8qcf81s3H6nDe",
      "include_colab_link": true
    },
    "kernelspec": {
      "name": "python3",
      "display_name": "Python 3"
    },
    "language_info": {
      "name": "python"
    }
  },
  "cells": [
    {
      "cell_type": "markdown",
      "metadata": {
        "id": "view-in-github",
        "colab_type": "text"
      },
      "source": [
        "<a href=\"https://colab.research.google.com/github/GromovaN21/Rosalind/blob/main/Rosalind.ipynb\" target=\"_parent\"><img src=\"https://colab.research.google.com/assets/colab-badge.svg\" alt=\"Open In Colab\"/></a>"
      ]
    },
    {
      "cell_type": "code",
      "execution_count": 41,
      "metadata": {
        "colab": {
          "base_uri": "https://localhost:8080/"
        },
        "id": "j0pX2TS0-wY2",
        "outputId": "9041ba66-85ca-4263-cddb-50c093295730"
      },
      "outputs": [
        {
          "output_type": "execute_result",
          "data": {
            "text/plain": [
              "7"
            ]
          },
          "metadata": {},
          "execution_count": 41
        }
      ],
      "source": [
        "#Counting Point Mutations\n",
        "a='GAGCCTACTAACGGGAT'\n",
        "b='CATCGTAATGACGGCCT'\n",
        "count_m = sum(x!=y for x,y in zip(a.lower(), b.lower()))\n",
        "count_m"
      ]
    },
    {
      "cell_type": "markdown",
      "source": [
        "The GC-content of a DNA string is given by the percentage of symbols in the string that are 'C' or 'G'. For example, the GC-content of \"AGCTATAG\" is 37.5%. Note that the reverse complement of any DNA string has the same GC-content."
      ],
      "metadata": {
        "id": "UBQZ9AZ_BTk8"
      }
    },
    {
      "cell_type": "code",
      "source": [
        "#Computing GC Content\n",
        "#https://rosalind.info/problems/gc/\n",
        "input_file = 'rosalind_gc.txt'\n",
        "\n",
        "def gc_count(seq):\n",
        "  gc_ = (seq.count(\"G\") + seq.count(\"C\")) *100/ len(seq)\n",
        "  return gc_\n",
        "\n",
        "def parse_fastqc(file_):\n",
        "  sequences={}\n",
        "  with open(file_) as f:\n",
        "    for line in f:\n",
        "      if line[0]==(\">\"):\n",
        "        current_header= line[1:]\n",
        "        sequences[current_header] = []\n",
        "      else:\n",
        "        sequences[current_header].append(line.strip())\n",
        "\n",
        "    for short_name, nucleotids in sequences.items():\n",
        "        sequences[short_name] = ''.join(nucleotids)\n",
        "\n",
        "    results = {\n",
        "        header: gc_count(sequence)\n",
        "        for header, sequence in sequences.items()\n",
        "    }\n",
        "  return  results\n",
        "\n",
        "dict_result = parse_fastqc(input_file)\n",
        "dict_result"
      ],
      "metadata": {
        "colab": {
          "base_uri": "https://localhost:8080/"
        },
        "id": "7C8YnGmt_8oE",
        "outputId": "6fe7dd72-1ee0-4b7e-80d8-76ca2cdd35e2"
      },
      "execution_count": null,
      "outputs": [
        {
          "output_type": "execute_result",
          "data": {
            "text/plain": [
              "{'Rosalind_5643\\n': 54.1044776119403,\n",
              " 'Rosalind_6651\\n': 50.847457627118644,\n",
              " 'Rosalind_6758\\n': 51.246882793017456,\n",
              " 'Rosalind_5795\\n': 47.74346793349169,\n",
              " 'Rosalind_8389\\n': 47.89473684210526}"
            ]
          },
          "metadata": {},
          "execution_count": 25
        }
      ]
    },
    {
      "cell_type": "markdown",
      "source": [
        "Finding a Motif in DNA"
      ],
      "metadata": {
        "id": "mSGZ1WILhZYi"
      }
    },
    {
      "cell_type": "code",
      "source": [
        "#Finding a Motif in DNA\n",
        "dna_input = \"GATATATGCATATACTT\"\n",
        "motif_input = \"ATAT\"\n",
        "\n",
        "def dna_motif(dna, motif):\n",
        "  result = []\n",
        "  for i in range(len(dna)):\n",
        "    if dna[i:i+len(motif)]== motif :\n",
        "      result.append(i+1)\n",
        "\n",
        "  return result\n",
        "dna_motif(dna_input,motif_input )\n"
      ],
      "metadata": {
        "colab": {
          "base_uri": "https://localhost:8080/"
        },
        "id": "jELkowYXhYuH",
        "outputId": "e8df3fb1-b4f6-4156-ba21-ea128186db2b"
      },
      "execution_count": 14,
      "outputs": [
        {
          "output_type": "execute_result",
          "data": {
            "text/plain": [
              "[2, 4, 10]"
            ]
          },
          "metadata": {},
          "execution_count": 14
        }
      ]
    },
    {
      "cell_type": "code",
      "source": [
        "#Defining aminoacides in dna\n",
        "\n",
        "s= \"GTTAATCGCACCAGCAGTTGCTTCCCTACCATTGTGTGTGTAGGGTTCTTTTGCCAT\"\n",
        "DNA_CODON_TABLE = {\n",
        "    'TTT': 'F',     'CTT': 'L',     'ATT': 'I',     'GTT': 'V',\n",
        "    'TTC': 'F',     'CTC': 'L',     'ATC': 'I',     'GTC': 'V',\n",
        "    'TTA': 'L',     'CTA': 'L',     'ATA': 'I',     'GTA': 'V',\n",
        "    'TTG': 'L',     'CTG': 'L',     'ATG': 'M',     'GTG': 'V',\n",
        "    'TCT': 'S',     'CCT': 'P',     'ACT': 'T',     'GCT': 'A',\n",
        "    'TCC': 'S',     'CCC': 'P',     'ACC': 'T',     'GCC': 'A',\n",
        "    'TCA': 'S',     'CCA': 'P',     'ACA': 'T',     'GCA': 'A',\n",
        "    'TCG': 'S',     'CCG': 'P',     'ACG': 'T',     'GCG': 'A',\n",
        "    'TAT': 'Y',     'CAT': 'H',     'AAT': 'N',     'GAT': 'D',\n",
        "    'TAC': 'Y',     'CAC': 'H',     'AAC': 'N',     'GAC': 'D',\n",
        "    'TAA': 'Stop',  'CAA': 'Q',     'AAA': 'K',     'GAA': 'E',\n",
        "    'TAG': 'Stop',  'CAG': 'Q',     'AAG': 'K',     'GAG': 'E',\n",
        "    'TGT': 'C',     'CGT': 'R',     'AGT': 'S',     'GGT': 'G',\n",
        "    'TGC': 'C',     'CGC': 'R',     'AGC': 'S',     'GGC': 'G',\n",
        "    'TGA': 'Stop',  'CGA': 'R',     'AGA': 'R',     'GGA': 'G',\n",
        "    'TGG': 'W',     'CGG': 'R',     'AGG': 'R',     'GGG': 'G'\n",
        "}\n",
        "\n",
        "\n",
        "bases={ \"A\":\"T\",\n",
        "        \"T\":\"A\",\n",
        "        \"G\":\"C\",\n",
        "        \"C\":\"G\"}\n",
        "def dna_transformation(dna):\n",
        "  dna_ = dna[::-1]\n",
        "  return \"\".join([bases[i] for i in dna_])\n",
        "\n",
        "def define_aminos(dna):\n",
        "  protein = []\n",
        "  for i in range(0,len(dna),3):\n",
        "    try:\n",
        "      codon = DNA_CODON_TABLE[dna[i:i+3]]\n",
        "      if codon == \"Stop\":\n",
        "        break\n",
        "      else:\n",
        "        protein.append(codon)\n",
        "    except:\n",
        "      pass\n",
        "  return \"\".join(protein)\n",
        "dna_input = dna_transformation(s)\n",
        "print(define_aminos(dna_input))"
      ],
      "metadata": {
        "id": "Hlma3W-jhwXR",
        "outputId": "57010a4a-3b61-4453-e974-1b0316435f8e",
        "colab": {
          "base_uri": "https://localhost:8080/"
        }
      },
      "execution_count": null,
      "outputs": [
        {
          "output_type": "stream",
          "name": "stdout",
          "text": [
            "MAKEPYTHNGREATAGAIN\n"
          ]
        }
      ]
    },
    {
      "cell_type": "code",
      "source": [
        "#Transitions and Transversions\n",
        "#A transition substitutes one purine for another (A↔G) or one pyrimidine for another (C↔T)\n",
        "#transversion  (A↔C) (G↔T)\n",
        "\n",
        "input1 = 'GCAACGCACAACGAAAACCCTTAGGGACTGGATTATTTCGTGATCGTTGTAGTTATTGGAAGTACGGGCATCAACCCAGTT'\n",
        "input2 = 'TTATCTGACAAAGAAAGCCGTCAACGGCTGGATAATTTCGCGATCGTGCTGGTTACTGGCGGTACGAGTGTTCCTTTGGGT'\n",
        "\n",
        "def count_mutation_rate(s1, s2):\n",
        "  trans = 0\n",
        "  transv = 0\n",
        "  for i in range(len(s1)):\n",
        "    if (s1[i] == \"A\" and s2[i] == 'G') or (s1[i] == \"G\" and s2[i] == 'A') or (s1[i] == \"C\" and s2[i] == 'T') or (s1[i] == \"T\" and s2[i] == 'C'):\n",
        "      trans +=1\n",
        "    elif  (s1[i] == \"A\" and s2[i] == 'C') or (s1[i] == \"C\" and s2[i] == 'A') or (s1[i] == \"G\" and s2[i] == 'T') or (s1[i] == \"T\" and s2[i] == 'G'):\n",
        "      transv +=1\n",
        "  print(trans,transv )\n",
        "\n",
        "  return trans/transv\n",
        "\n",
        "count_mutation_rate(input2, input1 )"
      ],
      "metadata": {
        "id": "aeUd3nUwaAXs",
        "outputId": "7d056d9f-8f95-43ca-b45e-3c884f4e4ebb",
        "colab": {
          "base_uri": "https://localhost:8080/"
        }
      },
      "execution_count": 44,
      "outputs": [
        {
          "output_type": "stream",
          "name": "stdout",
          "text": [
            "17 8\n"
          ]
        },
        {
          "output_type": "execute_result",
          "data": {
            "text/plain": [
              "2.125"
            ]
          },
          "metadata": {},
          "execution_count": 44
        }
      ]
    }
  ]
}