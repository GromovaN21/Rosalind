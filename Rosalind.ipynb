{
  "nbformat": 4,
  "nbformat_minor": 0,
  "metadata": {
    "colab": {
      "provenance": [],
      "authorship_tag": "ABX9TyPnQm7enQF6nWXHuF8gCt4w",
      "include_colab_link": true
    },
    "kernelspec": {
      "name": "python3",
      "display_name": "Python 3"
    },
    "language_info": {
      "name": "python"
    }
  },
  "cells": [
    {
      "cell_type": "markdown",
      "metadata": {
        "id": "view-in-github",
        "colab_type": "text"
      },
      "source": [
        "<a href=\"https://colab.research.google.com/github/GromovaN21/Rosalind/blob/main/Rosalind.ipynb\" target=\"_parent\"><img src=\"https://colab.research.google.com/assets/colab-badge.svg\" alt=\"Open In Colab\"/></a>"
      ]
    },
    {
      "cell_type": "code",
      "execution_count": null,
      "metadata": {
        "colab": {
          "base_uri": "https://localhost:8080/"
        },
        "id": "j0pX2TS0-wY2",
        "outputId": "9041ba66-85ca-4263-cddb-50c093295730"
      },
      "outputs": [
        {
          "output_type": "execute_result",
          "data": {
            "text/plain": [
              "7"
            ]
          },
          "metadata": {},
          "execution_count": 41
        }
      ],
      "source": [
        "#Counting Point Mutations\n",
        "a='GAGCCTACTAACGGGAT'\n",
        "b='CATCGTAATGACGGCCT'\n",
        "count_m = sum(x!=y for x,y in zip(a.lower(), b.lower()))\n",
        "count_m"
      ]
    },
    {
      "cell_type": "markdown",
      "source": [
        "The GC-content of a DNA string is given by the percentage of symbols in the string that are 'C' or 'G'. For example, the GC-content of \"AGCTATAG\" is 37.5%. Note that the reverse complement of any DNA string has the same GC-content."
      ],
      "metadata": {
        "id": "UBQZ9AZ_BTk8"
      }
    },
    {
      "cell_type": "code",
      "source": [
        "#Computing GC Content\n",
        "#https://rosalind.info/problems/gc/\n",
        "input_file = 'rosalind_gc.txt'\n",
        "\n",
        "def gc_count(seq):\n",
        "  gc_ = (seq.count(\"G\") + seq.count(\"C\")) *100/ len(seq)\n",
        "  return gc_\n",
        "\n",
        "def parse_fastqc(file_):\n",
        "  sequences={}\n",
        "  with open(file_) as f:\n",
        "    for line in f:\n",
        "      if line[0]==(\">\"):\n",
        "        current_header= line[1:]\n",
        "        sequences[current_header] = []\n",
        "      else:\n",
        "        sequences[current_header].append(line.strip())\n",
        "\n",
        "    for short_name, nucleotids in sequences.items():\n",
        "        sequences[short_name] = ''.join(nucleotids)\n",
        "\n",
        "    results = {\n",
        "        header: gc_count(sequence)\n",
        "        for header, sequence in sequences.items()\n",
        "    }\n",
        "  return  results\n",
        "\n",
        "dict_result = parse_fastqc(input_file)\n",
        "dict_result"
      ],
      "metadata": {
        "colab": {
          "base_uri": "https://localhost:8080/"
        },
        "id": "7C8YnGmt_8oE",
        "outputId": "6fe7dd72-1ee0-4b7e-80d8-76ca2cdd35e2"
      },
      "execution_count": null,
      "outputs": [
        {
          "output_type": "execute_result",
          "data": {
            "text/plain": [
              "{'Rosalind_5643\\n': 54.1044776119403,\n",
              " 'Rosalind_6651\\n': 50.847457627118644,\n",
              " 'Rosalind_6758\\n': 51.246882793017456,\n",
              " 'Rosalind_5795\\n': 47.74346793349169,\n",
              " 'Rosalind_8389\\n': 47.89473684210526}"
            ]
          },
          "metadata": {},
          "execution_count": 25
        }
      ]
    },
    {
      "cell_type": "markdown",
      "source": [
        "Finding a Motif in DNA"
      ],
      "metadata": {
        "id": "mSGZ1WILhZYi"
      }
    },
    {
      "cell_type": "code",
      "source": [
        "#Finding a Motif in DNA\n",
        "dna_input = \"GATATATGCATATACTT\"\n",
        "motif_input = \"ATAT\"\n",
        "\n",
        "def dna_motif(dna, motif):\n",
        "  result = []\n",
        "  for i in range(len(dna)):\n",
        "    if dna[i:i+len(motif)]== motif :\n",
        "      result.append(i+1)\n",
        "\n",
        "  return result\n",
        "dna_motif(dna_input,motif_input )\n"
      ],
      "metadata": {
        "colab": {
          "base_uri": "https://localhost:8080/"
        },
        "id": "jELkowYXhYuH",
        "outputId": "e8df3fb1-b4f6-4156-ba21-ea128186db2b"
      },
      "execution_count": null,
      "outputs": [
        {
          "output_type": "execute_result",
          "data": {
            "text/plain": [
              "[2, 4, 10]"
            ]
          },
          "metadata": {},
          "execution_count": 14
        }
      ]
    },
    {
      "cell_type": "code",
      "source": [
        "#Defining aminoacides in dna\n",
        "\n",
        "s= \"GTTAATCGCACCAGCAGTTGCTTCCCTACCATTGTGTGTGTAGGGTTCTTTTGCCAT\"\n",
        "DNA_CODON_TABLE = {\n",
        "    'TTT': 'F',     'CTT': 'L',     'ATT': 'I',     'GTT': 'V',\n",
        "    'TTC': 'F',     'CTC': 'L',     'ATC': 'I',     'GTC': 'V',\n",
        "    'TTA': 'L',     'CTA': 'L',     'ATA': 'I',     'GTA': 'V',\n",
        "    'TTG': 'L',     'CTG': 'L',     'ATG': 'M',     'GTG': 'V',\n",
        "    'TCT': 'S',     'CCT': 'P',     'ACT': 'T',     'GCT': 'A',\n",
        "    'TCC': 'S',     'CCC': 'P',     'ACC': 'T',     'GCC': 'A',\n",
        "    'TCA': 'S',     'CCA': 'P',     'ACA': 'T',     'GCA': 'A',\n",
        "    'TCG': 'S',     'CCG': 'P',     'ACG': 'T',     'GCG': 'A',\n",
        "    'TAT': 'Y',     'CAT': 'H',     'AAT': 'N',     'GAT': 'D',\n",
        "    'TAC': 'Y',     'CAC': 'H',     'AAC': 'N',     'GAC': 'D',\n",
        "    'TAA': 'Stop',  'CAA': 'Q',     'AAA': 'K',     'GAA': 'E',\n",
        "    'TAG': 'Stop',  'CAG': 'Q',     'AAG': 'K',     'GAG': 'E',\n",
        "    'TGT': 'C',     'CGT': 'R',     'AGT': 'S',     'GGT': 'G',\n",
        "    'TGC': 'C',     'CGC': 'R',     'AGC': 'S',     'GGC': 'G',\n",
        "    'TGA': 'Stop',  'CGA': 'R',     'AGA': 'R',     'GGA': 'G',\n",
        "    'TGG': 'W',     'CGG': 'R',     'AGG': 'R',     'GGG': 'G'\n",
        "}\n",
        "\n",
        "\n",
        "bases={ \"A\":\"T\",\n",
        "        \"T\":\"A\",\n",
        "        \"G\":\"C\",\n",
        "        \"C\":\"G\"}\n",
        "def dna_transformation(dna):\n",
        "  dna_ = dna[::-1]\n",
        "  return \"\".join([bases[i] for i in dna_])\n",
        "\n",
        "def define_aminos(dna):\n",
        "  protein = []\n",
        "  for i in range(0,len(dna),3):\n",
        "    try:\n",
        "      codon = DNA_CODON_TABLE[dna[i:i+3]]\n",
        "      if codon == \"Stop\":\n",
        "        break\n",
        "      else:\n",
        "        protein.append(codon)\n",
        "    except:\n",
        "      pass\n",
        "  return \"\".join(protein)\n",
        "dna_input = dna_transformation(s)\n",
        "print(define_aminos(dna_input))"
      ],
      "metadata": {
        "id": "Hlma3W-jhwXR",
        "outputId": "57010a4a-3b61-4453-e974-1b0316435f8e",
        "colab": {
          "base_uri": "https://localhost:8080/"
        }
      },
      "execution_count": null,
      "outputs": [
        {
          "output_type": "stream",
          "name": "stdout",
          "text": [
            "MAKEPYTHNGREATAGAIN\n"
          ]
        }
      ]
    },
    {
      "cell_type": "code",
      "source": [
        "#Transitions and Transversions\n",
        "#A transition substitutes one purine for another (A↔G) or one pyrimidine for another (C↔T)\n",
        "#transversion  (A↔C) (G↔T)\n",
        "\n",
        "input1 = 'GGAGATAACCGTTACTTAGAAGGGGTCTGAAAGGGTTGAGGTACGCCATTCGCGTTGTTGGAGGGTAAAACTTATCTCTACGGGCGAGCTGCTTGAAGGTAGATCATATTTTGACTGGTAAGCAGACATGGGGTACCACCAACATAGGGTTCCAAACCGCTAGAATCCGCAACCTGGGATATGCGCGCATTTGACCAACTTCGAGGACCAGGACAGCACTACGGTTTGACTTCGACTAGGCTAATGACGGAATCACAGCTAATCACGTGTTATGGATGTAGAGTCGAAATTTCTCATTGACGAATGGAGATTTAGTGGCCGGATAGTGTACAGGCGTTTTCAGATACTCTGGTACCGTCTGCTTTGAATTAGCTATGCAGTGACTTAAGATCGCCTCATCCATGGGATTGATACCGCGACTCTAACTTGAGTTTAACCATGAATGCTGGCATGTGATTTCTGCGGTCCTCGGGCGCTAACCGCAAAGCACAGTTGGAAACTACCTTTGGGACGACAAAAGGAGGGGTGTCTAGTCGCTACTGCACGCATTCTGTGCGGGCAACCCACCGGCCAATTCGTCGGTGTGGATCCCTTATCCCGTGCGCATTGTTGCGCGGGGAGGCTCAGCATTAGCGGATTTAACTCCCATGGTGCCTCCGTTACGATCTCGTGGAGTCACTGACCGAATACGCAAGTCATGCCACTCGGGGAAGTCGGGAGCAGAGGCTTTCCCTGTTTTTCATCGTAGAACGTTGCACATACCGGATGAATTTCCTCTGTACGTATTGACTAATCTAATACAGCTACCGATAACACGTAAACTGCACAACACGGTTATATACCCTATGCGGCATCGCCGTGAACGGCCTTACACTATCTCTGGACCTTAGAAGGAGAAGGGCGTCTGAACCGGATTG'\n",
        "input2 = 'AGAGAAATCCAATACTCGGAGGGGGCCCAGAGGGGCTGAGGTATGCCATCTGTGTTATCGGAAGGGAAAACTCATTCTTCCTGAAATGCTACCTGAGATTGAGGCATATCTTTATTGGGAAGCAAACCCAGGGTACTACCGAGCCGAGGGCCCAATTTGATAGAATCTGCAACTCGGGACGTACCCGTATCTAATCAACACCGAGGACTGAGACATCGTTATGATCTGGTTTCGTCCAGACTAACAACGGAGTCAAAGCCAATCGCTTTTTATGGGAGCAGAGTCGAGATTACCCCTAGCCAGAGAAAAATATAGTGGCCGGATGGTGTACGGCCGGTTGTTGAAGCCCTGATACTGTCTGCTTTGAATTAGCTACGGAGTAACCTAAGACCGCCCTATGCCTGGAATTGATACCGCGACGGTAACTTGACTTTAACCTCACACGCTCGCATATGATTTGTGCGGCCGTCGGGGGCTAACTGCATAGCTCCGACGAAAATCAGCTCTGGGAACATAAAAAGAGGTGTGTCCAGTCAGTACTCCACGGATTCAGTGCGAGTAACCCTCCAGCCAGTTCGTTGGTCCGGATCATATATTTGATGTGCATTGTCAAACGGGAACGCTCAGCACTCGCAGATTTATCTACAGTGACGCCCCCGTTACGAGTTTGGGGGATCACGAAACGAGCCTGCGAGCCGTGCCACTCGGGGCTATCGAGAGTAAAAGCCTTACGTTCTTCTGACCCTGAAGTGCTGCTCATGCAGGGCATATTTCCCTCGTATGCGCTGATCAATCTAATATAGCTACCGATAACACGTTAACAGCCCAGCTCGGGTACGTACTCTACGCGTCAACACCGTTGATGGCCTTACAGTATCTCCGGGCCTCATAAGCAGGAGGTCGTCTGAAACTGATAG'\n",
        "\n",
        "def count_mutation_rate(s1, s2):\n",
        "  transitions = {\"AG\", \"GA\", \"CT\", \"TC\"}\n",
        "  transversions = {\"AC\", \"CA\", \"GT\", \"TG\", \"AT\", \"TA\", \"GC\", \"CG\"}\n",
        "  transitions_count = sum(1 for i in range(len(s1)) if s1[i]+s2[i] in transitions)\n",
        "  transversions_count = sum(1 for i in range(len(s2)) if s1[i]+s2[i] in transversions)\n",
        "  return transitions_count/ transversions_count\n",
        "\n",
        "count_mutation_rate(input2, input1 )"
      ],
      "metadata": {
        "colab": {
          "base_uri": "https://localhost:8080/"
        },
        "id": "aeUd3nUwaAXs",
        "outputId": "ec7e9a07-89c6-4c21-e04a-36c97b393d9b"
      },
      "execution_count": null,
      "outputs": [
        {
          "output_type": "execute_result",
          "data": {
            "text/plain": [
              "1.7843137254901962"
            ]
          },
          "metadata": {},
          "execution_count": 57
        }
      ]
    },
    {
      "cell_type": "markdown",
      "source": [
        "Выравнивание последовательностей"
      ],
      "metadata": {
        "id": "sMqJgTrY4q3k"
      }
    },
    {
      "cell_type": "code",
      "source": [
        "# put your python code here\n",
        "# put your python code here\n",
        "import numpy as np\n",
        "s1 = input()\n",
        "s2 = input()\n",
        "match=1\n",
        "mismatch=-1\n",
        "gap=-2\n",
        "\n",
        "main_matrix= np.zeros((len(s1)+1,len(s2)+1))\n",
        "match_matrix = np.zeros((len(s1),len(s2)))\n",
        "for i in range(len(s1)):\n",
        "    for j in range(len(s2)):\n",
        "        if s1[i]==s2[j]:\n",
        "            match_matrix[i][j] = match\n",
        "        else:\n",
        "            match_matrix[i][j] = mismatch\n",
        "\n",
        "for i in range(len(s1)+1):\n",
        "    main_matrix[i][0] = i* gap\n",
        "for j in range(len(s2)+1):\n",
        "    main_matrix[0][j] = j*gap\n",
        "\n",
        "for i in range(1,len(s1)+1):\n",
        "    for j in range(1,len(s2)+1):\n",
        "        main_matrix[i][j] = max(main_matrix[i-1][j-1]+match_matrix[i-1][j-1],\n",
        "                                main_matrix[i-1][j]+gap,\n",
        "                                main_matrix[i][j-1]+ gap)\n",
        "\n",
        "\n",
        "\n",
        "align1=\"\"\n",
        "align2=\"\"\n",
        "\n",
        "i = len(s1)\n",
        "j = len(s2)\n",
        "\n",
        "while i > 0 or j > 0:\n",
        "    if i > 0 and j > 0 and main_matrix[i][j] == main_matrix[i - 1][j - 1] + match_matrix[i - 1][j - 1]:\n",
        "        align1 = s1[i - 1] + align1\n",
        "        align2 = s2[j - 1] + align2\n",
        "        i -= 1\n",
        "        j -= 1\n",
        "    elif (i > 0 and main_matrix[i][j] == main_matrix[i-1][j] + gap):\n",
        "        align1 = s1[i - 1] + align1\n",
        "        align2 = \"-\" + align2\n",
        "        i -= 1\n",
        "    else:\n",
        "        align1 = \"-\" + align1\n",
        "        align2 = s2[j - 1] + align2\n",
        "        j -= 1\n",
        "\n",
        "print(align1)\n",
        "print(align2)"
      ],
      "metadata": {
        "id": "9TM5EgS84oRn"
      },
      "execution_count": null,
      "outputs": []
    },
    {
      "cell_type": "markdown",
      "source": [
        "Вторичная структура РНК\n",
        "\n"
      ],
      "metadata": {
        "id": "7aYhom6i41FW"
      }
    },
    {
      "cell_type": "code",
      "source": [
        "import numpy as np\n",
        "\n",
        "s=input()\n",
        "m = np.zeros((len(s), len(s)))\n",
        "def complementary(a, b):\n",
        "    if (a==\"C\" and b ==\"G\") or (a==\"A\" and b==\"U\") or (a==\"G\" and b ==\"C\") or (a==\"U\" and b ==\"A\") :\n",
        "        return 1\n",
        "\n",
        "    else:\n",
        "        return 0\n",
        "\n",
        "for j in range(2, len(s)):\n",
        "    for i in range(len(s)-j):\n",
        "        match = complementary(s[i],s[i+j])\n",
        "        if match ==1 :\n",
        "            match = m[i+1,i+j-1]+match\n",
        "\n",
        "        temp =0\n",
        "        for k in range(i+1, i+j):\n",
        "             temp = max(temp, m[i][k]+m[k+1][i+j])\n",
        "        m[i][i+j] = max(match, temp, m[i+1][i+j], m[i][i+j-1])\n",
        "#print(m)\n",
        "print(int(max(max(m, key=max))))"
      ],
      "metadata": {
        "id": "ALjXtc1N48bj"
      },
      "execution_count": null,
      "outputs": []
    },
    {
      "cell_type": "markdown",
      "source": [
        "Алгоритм Хиршберга"
      ],
      "metadata": {
        "id": "9jFafA_w5BFo"
      }
    },
    {
      "cell_type": "code",
      "source": [
        "import numpy as np\n",
        "import itertools\n",
        "gap=-2\n",
        "match=2\n",
        "mismatch=-1\n",
        "\n",
        "def NW(s1, s2):\n",
        "    main_matrix = newMtx(len(s1) + 1, len(s2) + 1)\n",
        "    #a1 = []\n",
        "    #a2 = []\n",
        "\n",
        "    for i in range(len(s1) + 1):\n",
        "        main_matrix[i][0] = i * gap\n",
        "\n",
        "    for j in range(len(s2) + 1):\n",
        "        main_matrix[0][j] = j * gap\n",
        "\n",
        "    for i in range(1, len(s1) + 1):\n",
        "        for j in range(1, len(s2) + 1):\n",
        "            main_matrix[i][j] = max(\n",
        "                main_matrix[i - 1][j - 1] + (match if s1[i - 1] == s2[j - 1] else mismatch),\n",
        "                main_matrix[i - 1][j] + gap,\n",
        "                main_matrix[i][j - 1] + gap\n",
        "            )\n",
        "\n",
        "    align1 = \"\"\n",
        "    align2 = \"\"\n",
        "\n",
        "    i = len(s1)\n",
        "    j = len(s2)\n",
        "\n",
        "    while i > 0 or j > 0:\n",
        "        if i > 0 and j > 0 and main_matrix[i][j] == main_matrix[i - 1][j - 1] + (match if s1[i - 1] == s2[j - 1] else mismatch):\n",
        "            align1 = s1[i - 1] + align1\n",
        "            align2 = s2[j - 1] + align2\n",
        "            #a1.append(s1[i - 1])\n",
        "            #a2.append(s2[j - 1])\n",
        "            i -= 1\n",
        "            j -= 1\n",
        "        elif (i > 0 and main_matrix[i][j] == main_matrix[i-1][j] + gap):\n",
        "            align1 = s1[i - 1] + align1\n",
        "            align2 = \"-\" + align2\n",
        "            #a1.append(s1[i - 1])\n",
        "            #a2.append(\"-\")\n",
        "\n",
        "            i -= 1\n",
        "        else:\n",
        "            align1 = \"-\" + align1\n",
        "            align2 = s2[j - 1] + align2\n",
        "            #a1.append(\"-\")\n",
        "            #a2.append(s2[j - 1])\n",
        "            j -= 1\n",
        "\n",
        "    return align1, align2\n",
        "    #return a1[::-1], a2[::-1]\n",
        "\n",
        "def newMtx(x,y):\n",
        "    result = []\n",
        "    for i in range(x):\n",
        "        result.append([])\n",
        "        for j in range(y):\n",
        "            result[i].append(0)\n",
        "    return result\n",
        "\n",
        "def score(s1, s2):\n",
        "\n",
        "    first = [0]\n",
        "    second = []\n",
        "    for j in range(1, len(s2) + 1):\n",
        "        first.append(first[j-1] + gap)\n",
        "    for i in range(1, len(s1) + 1):\n",
        "        second.append(first[0] + gap)\n",
        "        for j in range(1, len(s2) + 1):\n",
        "            second.append(max(\n",
        "                first[j - 1] + (match if s1[i - 1] == s2[j - 1] else mismatch),\n",
        "                first[j] + gap,\n",
        "                second[j - 1] + gap\n",
        "            ))\n",
        "        first = second\n",
        "        second = []\n",
        "    return first\n",
        "\n",
        "d_max = 9999\n",
        "\n",
        "def hirshberg(s1, s2, depth):\n",
        "    #left_alignment = []\n",
        "    #right_alignment = []\n",
        "    la, ra = \"\", \"\"\n",
        "    if len(s1) == 0:\n",
        "        for i in range(len(s2)):\n",
        "            #left_alignment.append(\"-\")\n",
        "            la += \"-\"\n",
        "        #right_alignment = list(s2)\n",
        "        ra = s2\n",
        "    elif len(s2) == 0:\n",
        "        for i in range(len(s1)):\n",
        "            #right_alignment.append(\"-\")\n",
        "            ra += \"-\"\n",
        "        #left_alignment = list(s1)\n",
        "        la = s1\n",
        "    elif len(s1) < 2 or len(s2) < 2 or depth > d_max:\n",
        "        #print(3)\n",
        "        #left_alignment, right_alignment = NW(s1, s2)\n",
        "        la, ra = NW(s1,s2)\n",
        "    else:\n",
        "\n",
        "        midpoint = len(s1) // 2\n",
        "        left_score = score(s1[:midpoint], s2)\n",
        "        right_score = score(s1[midpoint:][::-1], s2[::-1])\n",
        "        #print(left_score, right_score)\n",
        "        right_rev = reversed(right_score)\n",
        "        SUM = (l1 + l2 for l1,l2 in zip(left_score, right_rev))\n",
        "        _, middle_position = max((sum_val, sum_i) for sum_i, sum_val in enumerate(SUM))\n",
        "        a, b = hirshberg(s1[:midpoint], s2[:middle_position], depth + 1)\n",
        "        c, d = hirshberg(s1[midpoint:], s2[middle_position:], depth + 1)\n",
        "        #print(h1, h2)\n",
        "\n",
        "        la = a+c\n",
        "        ra = b+d\n",
        "\n",
        "\n",
        "    #print(left_alignment, right_alignment)\n",
        "    #return left_alignment, right_alignment\n",
        "    return la, ra\n",
        "\n",
        "\n",
        "s1= input().strip()\n",
        "s2 = input().strip()\n",
        "\n",
        "#print(s1 + \" :: \" + s2)\n",
        "\n",
        "result = hirshberg(s1, s2, 0)\n",
        "print(result[0])\n",
        "print(result[1])\n",
        "#a = newMtx(2,4)\n",
        "#a[1][1] = 1\n",
        "#a[0] = a[1].copy()\n",
        "#a[1][1] = 2\n",
        "#print(a)\n"
      ],
      "metadata": {
        "id": "fMTqRX_P5EXO"
      },
      "execution_count": null,
      "outputs": []
    },
    {
      "cell_type": "markdown",
      "source": [
        "Скрытая марковская модель (HMM)"
      ],
      "metadata": {
        "id": "j-x-vx2q5IDb"
      }
    },
    {
      "cell_type": "code",
      "source": [
        "import numpy as np\n",
        "\n",
        "\n",
        "\n",
        "a= input()\n",
        "\n",
        "def weight(nucleotide, promoter):\n",
        "    if promoter == True:\n",
        "\n",
        "        if (nucleotide==\"A\" or  nucleotide==\"T\"):\n",
        "\n",
        "            return 0.1\n",
        "        else:\n",
        "            return 0.4\n",
        "    else:\n",
        "        if (nucleotide==\"A\" or  nucleotide==\"T\"):\n",
        "\n",
        "            return 0.3\n",
        "        else:\n",
        "            return 0.2\n",
        "\n",
        "def cycle(step):\n",
        "    if step == 'P':\n",
        "        return 0\n",
        "    else:\n",
        "        return 1\n",
        "\n",
        "matrix = np.zeros((2 , int(len(a))))\n",
        "\n",
        "for i in range(len(a)):\n",
        "    if i == 0:\n",
        "        matrix[0][i] = 0.5* weight(a[i] , True)\n",
        "        matrix[1][i] = 0.5* weight(a[i] , False)\n",
        "    else:\n",
        "        promoter_promoter = matrix[0][i-1]*0.9* weight(a[i] , True)\n",
        "        nonpromoter_promoter = matrix[1][i-1]*0.2* weight(a[i] , True)\n",
        "        nonpromoter_nonpromoter = matrix[1][i-1]*0.8* weight(a[i] , False)\n",
        "        promoter_nonpromoter = matrix[0][i-1]*0.1* weight(a[i] , False)\n",
        "\n",
        "\n",
        "        matrix[0][i] = promoter_promoter  +  nonpromoter_promoter\n",
        "        matrix[1][i] = nonpromoter_nonpromoter + promoter_nonpromoter\n",
        "\n",
        "print(float(matrix[0][len(a)-1] +matrix[1][len(a)-1]))"
      ],
      "metadata": {
        "id": "CERXGyuS5NH6"
      },
      "execution_count": null,
      "outputs": []
    },
    {
      "cell_type": "markdown",
      "source": [
        "Вычислительная масс-спектрометрия"
      ],
      "metadata": {
        "id": "3EUYE8Dq5Ud9"
      }
    },
    {
      "cell_type": "code",
      "source": [
        "alphabet = ['A','C','D','E','F','G','H','L','M','N','P','Q','R','S','T','V','W','Y']\n",
        "masses = [71, 103, 115, 129, 147, 57, 137, 113, 131, 114, 97, 128, 156, 87, 101, 99, 186, 163]\n",
        "\n",
        "mass_dict = dict(zip( masses, alphabet))\n",
        "rev_dict = dict(zip(alphabet, masses))\n",
        "\n",
        "a= list(map(int,input().split()))\n",
        "a=sorted(a)\n",
        "\n",
        "if a[0] != 0:\n",
        "    a.insert(0,0)\n",
        "\n",
        "def walk(start, seq):\n",
        "    seq2 = seq[:]\n",
        "    if len(seq2) == 0:\n",
        "        seq2.append(start)\n",
        "    else:\n",
        "\n",
        "        diff = a[start] - a[seq[-1]]\n",
        "        if not diff in mass_dict:\n",
        "            return [], False\n",
        "        seq2.append(start)\n",
        "    if ideal_spectrum(collect(seq2)) == a:\n",
        "        return seq2, True\n",
        "\n",
        "    for i in range(len(a)-start-1):\n",
        "        res, ok = walk(start+i+1, seq2)\n",
        "        if ok:\n",
        "            return res, ok\n",
        "    return [], False\n",
        "\n",
        "\n",
        "\n",
        "\n",
        "def collect(seq):\n",
        "    result = \"\"\n",
        "    for i in range(len(seq)):\n",
        "        if i == 0:\n",
        "            continue\n",
        "        result += mass_dict[a[seq[i]]-a[seq[i-1]]]\n",
        "    return result\n",
        "\n",
        "\n",
        "\n",
        "def ideal_spectrum(peptide):\n",
        "    total_mass = sum(rev_dict[a] for a in peptide)\n",
        "    spectrum = {0}\n",
        "    for i in range(1, len(peptide)):\n",
        "         prefix = peptide[0:i]\n",
        "         suffix = peptide[i:len(peptide)]\n",
        "         prefix_mass = sum(rev_dict[a] for a in prefix)\n",
        "         suffix_mass = sum(rev_dict[a] for a in suffix)\n",
        "         spectrum.add(prefix_mass)\n",
        "         spectrum.add(suffix_mass)\n",
        "\n",
        "    spectrum.add(total_mass)\n",
        "\n",
        "    return sorted(spectrum)\n",
        "\n",
        "#print(ideal_spectrum('ALLLLHHHGGGGCCA'))\n",
        "\n",
        "result, ok = walk(0, [])\n",
        "\n",
        "\n",
        "print(collect(result))"
      ],
      "metadata": {
        "id": "C2NE_mt55U-3"
      },
      "execution_count": null,
      "outputs": []
    }
  ]
}