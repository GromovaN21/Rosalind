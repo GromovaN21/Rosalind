{
  "nbformat": 4,
  "nbformat_minor": 0,
  "metadata": {
    "colab": {
      "provenance": [],
      "authorship_tag": "ABX9TyMFmTujT9xjgk5xWRWLqY3F",
      "include_colab_link": true
    },
    "kernelspec": {
      "name": "python3",
      "display_name": "Python 3"
    },
    "language_info": {
      "name": "python"
    }
  },
  "cells": [
    {
      "cell_type": "markdown",
      "metadata": {
        "id": "view-in-github",
        "colab_type": "text"
      },
      "source": [
        "<a href=\"https://colab.research.google.com/github/GromovaN21/Rosalind/blob/main/Rosalind.ipynb\" target=\"_parent\"><img src=\"https://colab.research.google.com/assets/colab-badge.svg\" alt=\"Open In Colab\"/></a>"
      ]
    },
    {
      "cell_type": "code",
      "execution_count": null,
      "metadata": {
        "colab": {
          "base_uri": "https://localhost:8080/"
        },
        "id": "j0pX2TS0-wY2",
        "outputId": "8d4dab4f-77c5-4cce-da67-64bb0d5732f0"
      },
      "outputs": [
        {
          "output_type": "execute_result",
          "data": {
            "text/plain": [
              "3"
            ]
          },
          "metadata": {},
          "execution_count": 5
        }
      ],
      "source": [
        "#Counting Point Mutations\n",
        "a='AACCTGGGGGCC'\n",
        "b='ACCCTTTGGGCC'\n",
        "count_m = sum(x!=y for x,y in zip(a.lower(), b.lower()))\n",
        "count_m"
      ]
    },
    {
      "cell_type": "markdown",
      "source": [
        "The GC-content of a DNA string is given by the percentage of symbols in the string that are 'C' or 'G'. For example, the GC-content of \"AGCTATAG\" is 37.5%. Note that the reverse complement of any DNA string has the same GC-content."
      ],
      "metadata": {
        "id": "UBQZ9AZ_BTk8"
      }
    },
    {
      "cell_type": "code",
      "source": [
        "#Computing GC Content\n",
        "#https://rosalind.info/problems/gc/\n",
        "input_file = 'rosalind_gc.txt'\n",
        "\n",
        "def gc_count(seq):\n",
        "  gc_ = (seq.count(\"G\") + seq.count(\"C\")) *100/ len(seq)\n",
        "  return gc_\n",
        "\n",
        "def parse_fastqc(file_):\n",
        "  sequences={}\n",
        "  with open(file_) as f:\n",
        "    for line in f:\n",
        "      if line[0]==(\">\"):\n",
        "        current_header= line[1:]\n",
        "        sequences[current_header] = []\n",
        "      else:\n",
        "        sequences[current_header].append(line.strip())\n",
        "\n",
        "    for short_name, nucleotids in sequences.items():\n",
        "        sequences[short_name] = ''.join(nucleotids)\n",
        "\n",
        "    results = {\n",
        "        header: gc_count(sequence)\n",
        "        for header, sequence in sequences.items()\n",
        "    }\n",
        "  return  results\n",
        "\n",
        "dict_result = parse_fastqc(input_file)\n",
        "dict_result"
      ],
      "metadata": {
        "colab": {
          "base_uri": "https://localhost:8080/"
        },
        "id": "7C8YnGmt_8oE",
        "outputId": "6fe7dd72-1ee0-4b7e-80d8-76ca2cdd35e2"
      },
      "execution_count": null,
      "outputs": [
        {
          "output_type": "execute_result",
          "data": {
            "text/plain": [
              "{'Rosalind_5643\\n': 54.1044776119403,\n",
              " 'Rosalind_6651\\n': 50.847457627118644,\n",
              " 'Rosalind_6758\\n': 51.246882793017456,\n",
              " 'Rosalind_5795\\n': 47.74346793349169,\n",
              " 'Rosalind_8389\\n': 47.89473684210526}"
            ]
          },
          "metadata": {},
          "execution_count": 25
        }
      ]
    }
  ]
}